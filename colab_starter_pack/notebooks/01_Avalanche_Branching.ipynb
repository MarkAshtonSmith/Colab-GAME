{
  "cells": [
    {
      "cell_type": "markdown",
      "metadata": {},
      "source": [
        "# Colab Starter: Branching Process Demo\n",
        "\n",
        "Run this notebook in **Google Colab**. Use **File → Save a copy in GitHub** to commit your changes back to your repo.\n",
        "\n",
        "**What this does**: simulates a tiny branching (avalanche) process near criticality and plots the population by generation."
      ]
    },
    {
      "cell_type": "code",
      "execution_count": 0,
      "metadata": {},
      "outputs": [],
      "source": [
        "import numpy as np\n",
        "import matplotlib.pyplot as plt\n",
        "\n",
        "def simulate_branching(p=0.5, max_steps=200, seed=None):\n",
        "    rng = np.random.default_rng(seed)\n",
        "    pop = [1]\n",
        "    while pop[-1] > 0 and len(pop) < max_steps:\n",
        "        births = rng.binomial(n=pop[-1], p=p) * 2  # each gives 0 or 2 offspring\n",
        "        pop.append(int(births))\n",
        "    return np.array(pop)\n",
        "\n",
        "p = 0.5  # critical-ish\n",
        "pop = simulate_branching(p=p, max_steps=300, seed=42)\n",
        "\n",
        "plt.figure(figsize=(6,4))\n",
        "plt.plot(pop, lw=2)\n",
        "plt.xlabel('Generation')\n",
        "plt.ylabel('Population size')\n",
        "plt.title(f'Branching process (p={p})')\n",
        "plt.grid(True)\n",
        "plt.show()"
      ]
    },
    {
      "cell_type": "code",
      "execution_count": 0,
      "metadata": {},
      "outputs": [],
      "source": [
        "# Try a few values of p to see different regimes\n",
        "for p in [0.45, 0.5, 0.55]:\n",
        "    pop = simulate_branching(p=p, seed=0)\n",
        "    print(p, ' → lifetime (gens):', len(pop)-1, ', peak size:', pop.max())"
      ]
    }
  ],
  "metadata": {
    "kernelspec": {
      "display_name": "Python 3",
      "language": "python",
      "name": "python3"
    },
    "language_info": {
      "name": "python",
      "version": ""
    }
  },
  "nbformat": 4,
  "nbformat_minor": 5
}